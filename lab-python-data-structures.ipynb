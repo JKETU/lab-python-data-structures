{
 "cells": [
  {
   "cell_type": "markdown",
   "metadata": {
    "tags": []
   },
   "source": [
    "# Lab | Data Structures "
   ]
  },
  {
   "cell_type": "markdown",
   "metadata": {},
   "source": [
    "## Exercise: Managing Customer Orders\n",
    "\n",
    "As part of a business venture, you are starting an online store that sells various products. To ensure smooth operations, you need to develop a program that manages customer orders and inventory.\n",
    "\n",
    "Follow the steps below to complete the exercise:\n",
    "\n",
    "1. Define a list called `products` that contains the following items: \"t-shirt\", \"mug\", \"hat\", \"book\", \"keychain\".\n",
    "\n",
    "2. Create an empty dictionary called `inventory`.\n",
    "\n",
    "3. Ask the user to input the quantity of each product available in the inventory. Use the product names from the `products` list as keys in the `inventory` dictionary and assign the respective quantities as values.\n",
    "\n",
    "4. Create an empty set called `customer_orders`.\n",
    "\n",
    "5. Ask the user to input the name of three products that a customer wants to order (from those in the products list, meaning three products out of \"t-shirt\", \"mug\", \"hat\", \"book\" or \"keychain\". Add each product name to the `customer_orders` set.\n",
    "\n",
    "6. Print the products in the `customer_orders` set.\n",
    "\n",
    "7. Calculate the following order statistics:\n",
    "   - Total Products Ordered: The total number of products in the `customer_orders` set.\n",
    "   - Percentage of Products Ordered: The percentage of products ordered compared to the total available products.\n",
    "   \n",
    "   Store these statistics in a tuple called `order_status`.\n",
    "\n",
    "8. Print the order statistics using the following format:\n",
    "   ```\n",
    "   Order Statistics:\n",
    "   Total Products Ordered: <total_products_ordered>\n",
    "   Percentage of Products Ordered: <percentage_ordered>% \n",
    "   ```\n",
    "\n",
    "9. Update the inventory by subtracting 1 from the quantity of each product. Modify the `inventory` dictionary accordingly.\n",
    "\n",
    "10. Print the updated inventory, displaying the quantity of each product on separate lines.\n",
    "\n",
    "Solve the exercise by implementing the steps using the Python concepts of lists, dictionaries, sets, and basic input/output operations. "
   ]
  },
  {
   "cell_type": "code",
   "execution_count": null,
   "metadata": {},
   "outputs": [],
   "source": [
    "#JOEL'S ANSWER"
   ]
  },
  {
   "cell_type": "code",
   "execution_count": 1,
   "metadata": {
    "tags": []
   },
   "outputs": [
    {
     "name": "stdin",
     "output_type": "stream",
     "text": [
      "Enter the quantity of each t-shirt:  20\n",
      "Enter the quantity of each mug:  5\n",
      "Enter the quantity of each hat:  15\n",
      "Enter the quantity of each book:  12\n",
      "Enter the quantity of each keychain:  7\n"
     ]
    },
    {
     "name": "stdout",
     "output_type": "stream",
     "text": [
      "ïnventory update successful\n",
      "updated inventory: {'t-shirt': 20, 'mug': 5, 'hat': 15, 'book': 12, 'keychain': 7}\n"
     ]
    }
   ],
   "source": [
    "# Step 1: Define a list of products\n",
    "products = [\"t-shirt\", \"mug\", \"hat\", \"book\", \"keychain\"]\n",
    "\n",
    "#Step 2: Create an empty dictionary for inventory and fill it with example quantities\n",
    "inventory = {}  \n",
    "\n",
    "#Step 3: Ask the user to input the quantity of each product available in the inventory. Use the product names from the products list as keys in the inventory dictionary and assign the respective quantities as values. \n",
    "inventory = {}  \n",
    "for product in products:\n",
    "    quantity = int(input(f\"Enter the quantity of each {product}: \"))\n",
    "    inventory[product] = quantity\n",
    "print(\"ïnventory update successful\")\n",
    "print(\"updated inventory:\", inventory)"
   ]
  },
  {
   "cell_type": "code",
   "execution_count": 2,
   "metadata": {
    "tags": []
   },
   "outputs": [
    {
     "name": "stdin",
     "output_type": "stream",
     "text": [
      "Enter the name of your desired product you would like to order (t-shirt, mug, hat, book, keychain):  t-shirt\n",
      "Enter the name of your desired product you would like to order (t-shirt, mug, hat, book, keychain):  mug\n",
      "Enter the name of your desired product you would like to order (t-shirt, mug, hat, book, keychain):  hat\n"
     ]
    }
   ],
   "source": [
    "#Step 4: Create an empty set for customer orders\n",
    "customer_orders = set()\n",
    "\n",
    "#Step 4: Ask the user to input the name of three products that a customer wants to order (from those in the products list, meaning three products out of \"t-shirt\", \"mug\", \"hat\", \"book\" or \"keychain\". Add each product name to the customer_orders set.\n",
    "for customer_order in range(3):\n",
    "    while True:\n",
    "        product = input(\"Enter the name of your desired product you would like to order (t-shirt, mug, hat, book, keychain): \")\n",
    "        if product in products:\n",
    "            customer_orders.add(product)\n",
    "            break\n",
    "        else:\n",
    "            print(\"Product not available. Please choose one of our products.\")"
   ]
  },
  {
   "cell_type": "code",
   "execution_count": 3,
   "metadata": {
    "tags": []
   },
   "outputs": [
    {
     "name": "stdout",
     "output_type": "stream",
     "text": [
      "Products in customer orders: {'hat', 't-shirt', 'mug'}\n"
     ]
    }
   ],
   "source": [
    "#Step 6: Print the products in the customer_orders set\n",
    "print(\"Products in customer orders:\", customer_orders)"
   ]
  },
  {
   "cell_type": "code",
   "execution_count": 4,
   "metadata": {
    "tags": []
   },
   "outputs": [],
   "source": [
    "# Step 7: Calculate the total products ordered and the percentage of products ordered.\n",
    "total_products_ordered = len(customer_orders)\n",
    "total_available_products = sum(inventory.values())\n",
    "percentage_ordered = (total_products_ordered / total_available_products) * 100"
   ]
  },
  {
   "cell_type": "code",
   "execution_count": 5,
   "metadata": {
    "tags": []
   },
   "outputs": [],
   "source": [
    "# Step 9: Update the inventory by subtracting 1 from the quantity of each ordered product\n",
    "\n",
    "for product in customer_orders:\n",
    "    inventory[product] -= 1"
   ]
  },
  {
   "cell_type": "code",
   "execution_count": 6,
   "metadata": {
    "tags": []
   },
   "outputs": [
    {
     "name": "stdout",
     "output_type": "stream",
     "text": [
      "\n",
      "Order Statistics:\n",
      "Total Products Ordered: 3\n",
      "Percentage of Products Ordered: 5.08%\n"
     ]
    }
   ],
   "source": [
    "#Step 8: Store and print order statistics in a tuple\n",
    "\n",
    "order_status = (total_products_ordered, percentage_ordered)\n",
    "print(\"\\nOrder Statistics:\")\n",
    "print(f\"Total Products Ordered: {order_status[0]}\")\n",
    "print(f\"Percentage of Products Ordered: {order_status[1]:.2f}%\")"
   ]
  },
  {
   "cell_type": "code",
   "execution_count": 7,
   "metadata": {
    "tags": []
   },
   "outputs": [
    {
     "name": "stdout",
     "output_type": "stream",
     "text": [
      "\n",
      "Updated Inventory:\n",
      "t-shirt: 19\n",
      "mug: 4\n",
      "hat: 14\n",
      "book: 12\n",
      "keychain: 7\n"
     ]
    }
   ],
   "source": [
    "# Step 10: Print the updated inventory\n",
    "print(\"\\nUpdated Inventory:\")\n",
    "for product, quantity in inventory.items():\n",
    "    print(f\"{product}: {quantity}\")"
   ]
  },
  {
   "cell_type": "code",
   "execution_count": null,
   "metadata": {},
   "outputs": [],
   "source": []
  }
 ],
 "metadata": {
  "kernelspec": {
   "display_name": "Python 3 (ipykernel)",
   "language": "python",
   "name": "python3"
  },
  "language_info": {
   "codemirror_mode": {
    "name": "ipython",
    "version": 3
   },
   "file_extension": ".py",
   "mimetype": "text/x-python",
   "name": "python",
   "nbconvert_exporter": "python",
   "pygments_lexer": "ipython3",
   "version": "3.11.3"
  }
 },
 "nbformat": 4,
 "nbformat_minor": 4
}
